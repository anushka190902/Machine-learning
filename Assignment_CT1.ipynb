{
 "cells": [
  {
   "cell_type": "code",
   "execution_count": 1,
   "id": "09d13c7b",
   "metadata": {},
   "outputs": [
    {
     "name": "stdout",
     "output_type": "stream",
     "text": [
      "* \n",
      "* * \n",
      "* * * \n",
      "* * * * \n",
      "* * * * * \n"
     ]
    }
   ],
   "source": [
    "#lower triagular pattern\n",
    "\n",
    "def lower_triangular(n):\n",
    "    for i in range(1, n + 1):\n",
    "        print('* ' * i)\n",
    "\n",
    "lower_triangular(5)\n"
   ]
  },
  {
   "cell_type": "code",
   "execution_count": 2,
   "id": "2e76de35",
   "metadata": {},
   "outputs": [
    {
     "name": "stdout",
     "output_type": "stream",
     "text": [
      "* * * * * \n",
      "  * * * * \n",
      "    * * * \n",
      "      * * \n",
      "        * \n"
     ]
    }
   ],
   "source": [
    "#Upper triangular pattern\n",
    "def upper_triangular(n):\n",
    "    for i in range(n, 0, -1):\n",
    "        print('  ' * (n - i) + '* ' * i)\n",
    "\n",
    "upper_triangular(5)"
   ]
  },
  {
   "cell_type": "code",
   "execution_count": 3,
   "id": "4f065167",
   "metadata": {},
   "outputs": [
    {
     "name": "stdout",
     "output_type": "stream",
     "text": [
      "    * \n",
      "   * * \n",
      "  * * * \n",
      " * * * * \n",
      "* * * * * \n"
     ]
    }
   ],
   "source": [
    "#pyramid pattern\n",
    "def pyramid(n):\n",
    "    for i in range(1, n + 1):\n",
    "        print(' ' * (n - i) + '* ' * i)\n",
    "\n",
    "pyramid(5)"
   ]
  },
  {
   "cell_type": "code",
   "execution_count": null,
   "id": "ff9e9cc3",
   "metadata": {},
   "outputs": [],
   "source": []
  }
 ],
 "metadata": {
  "kernelspec": {
   "display_name": "Python 3 (ipykernel)",
   "language": "python",
   "name": "python3"
  },
  "language_info": {
   "codemirror_mode": {
    "name": "ipython",
    "version": 3
   },
   "file_extension": ".py",
   "mimetype": "text/x-python",
   "name": "python",
   "nbconvert_exporter": "python",
   "pygments_lexer": "ipython3",
   "version": "3.9.7"
  }
 },
 "nbformat": 4,
 "nbformat_minor": 5
}
